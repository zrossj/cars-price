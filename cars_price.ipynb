{
 "cells": [
  {
   "cell_type": "code",
   "execution_count": null,
   "metadata": {},
   "outputs": [],
   "source": [
    "import pyspark as ps\n",
    "import pandas as pd\n",
    "import requests\n",
    "import numpy as np\n",
    "from bs4 import BeautifulSoup\n",
    "from scipy import stats\n",
    "import urllib.request as urllib_request\n",
    "from urllib.request import Request, urlopen, urlretrieve\n",
    "from urllib.request import Request, urlopen\n",
    "from urllib.error import URLError, HTTPError\n",
    "import time"
   ]
  },
  {
   "cell_type": "code",
   "execution_count": null,
   "metadata": {},
   "outputs": [],
   "source": [
    "## config\n",
    "\n",
    "pd.set_option('display.max_columns', 50)\n",
    "pd.set_option('display.max_rows', 300)"
   ]
  },
  {
   "cell_type": "code",
   "execution_count": null,
   "metadata": {},
   "outputs": [],
   "source": [
    "# iniciando variaveis;\n",
    "\n",
    "df = pd.DataFrame()\n",
    "\n",
    "headers = {\n",
    "    'User-Agent': 'Mozilla/5.0 (Windows NT 10.0; Win64; x64) AppleWebKit/537.36 (KHTML, like Gecko) Chrome/91.0.4472.124 Safari/537.36',\n",
    "    'Accept': 'application/json',\n",
    "    'Accept-Language': 'pt-BR,en;q=0.5',\n",
    "    'Connection': 'keep-alive',\n",
    "    'Referer': 'https://www.webmotors.com.br/',\n",
    "    'Origin': 'https://www.webmotors.com.br'\n",
    "}"
   ]
  },
  {
   "cell_type": "markdown",
   "metadata": {},
   "source": [
    "### Objetivo: ler os dados de uma pesquisa na webmotors para análise de dados;"
   ]
  },
  {
   "cell_type": "code",
   "execution_count": null,
   "metadata": {},
   "outputs": [],
   "source": [
    "# API headers/call test;\n",
    "\n",
    "sesh = requests.Session()\n",
    "r2 = sesh.get('https://www.webmotors.com.br', headers = headers)\n",
    "r2.status_code"
   ]
  },
  {
   "cell_type": "markdown",
   "metadata": {},
   "source": [
    "<h2> API Call Function </h2>"
   ]
  },
  {
   "cell_type": "code",
   "execution_count": null,
   "metadata": {},
   "outputs": [],
   "source": [
    "raw_result = {}\n",
    "\n",
    "def api_call(page_num):\n",
    "\n",
    "    assert page_num > 0\n",
    "\n",
    "    url = f\"\"\"https://www.webmotors.com.br/api/search/car?url=https://www.webmotors.com.br/carros-usados%2Festoque%3Flkid%3D1022%26tipoveiculo%3Dcarros-usados&actualPage={page_num}&displayPerPage=1000&order=1&showMenu=true&showCount=true&showBreadCrumb=true&testAB=false&returnUrl=false&pandora=false&opcionais=Bancos%20em%20couro\"\"\"\n",
    "\n",
    "\n",
    "    session = requests.Session()\n",
    "    r = session.get(url, headers=headers)\n",
    "    \n",
    "\n",
    "    df_page = pd.json_normalize(r.json()['SearchResults'])\n",
    "    raw_result[page_num] = r.json()\n",
    "\n",
    "    return df_page\n"
   ]
  },
  {
   "cell_type": "code",
   "execution_count": null,
   "metadata": {},
   "outputs": [],
   "source": []
  },
  {
   "cell_type": "code",
   "execution_count": null,
   "metadata": {},
   "outputs": [],
   "source": [
    "# com marca/modelo:\n",
    "\n",
    "\n",
    "raw_result = {}\n",
    "\n",
    "def api_call_byModel(page_num, marca = '', modelo = ''):\n",
    "\n",
    "    assert page_num > 0\n",
    "\n",
    "\n",
    "    modelo = modelo.upper()\n",
    "    marca = marca.upper()\n",
    "\n",
    "    url = f\"\"\"https://www.webmotors.com.br/api/search/car?url=https://www.webmotors.com.br/carros-usados%2Festoque%3Flkid%3D1022%26tipoveiculo%3Dcarros-usados&actualPage={page_num}&marca1={marca}&modelo1={modelo}&displayPerPage=1000&order=1&showMenu=true&showCount=true&showBreadCrumb=true&testAB=false&returnUrl=false&pandora=false&opcionais=Bancos%20em%20couro\"\"\"\n",
    "\n",
    "\n",
    "    session = requests.Session()\n",
    "    r = session.get(url, headers=headers)\n",
    "    \n",
    "\n",
    "    df_page = pd.json_normalize(r.json()['SearchResults'])\n",
    "    raw_result[page_num] = r.json()\n",
    "\n",
    "    return df_page\n",
    "\n",
    "\n"
   ]
  },
  {
   "cell_type": "code",
   "execution_count": null,
   "metadata": {},
   "outputs": [],
   "source": [
    "df_virtus = api_call_byModel(1, 'VOLKSWAGEN', 'VIRTUS')\n",
    "\n"
   ]
  },
  {
   "cell_type": "code",
   "execution_count": null,
   "metadata": {},
   "outputs": [],
   "source": []
  },
  {
   "cell_type": "markdown",
   "metadata": {},
   "source": [
    "# Scraping all search pages;\n"
   ]
  },
  {
   "cell_type": "code",
   "execution_count": null,
   "metadata": {},
   "outputs": [],
   "source": [
    "\n",
    "for page_num in range(1, 5):\n",
    "    \n",
    "\n",
    "    df_page_n = api_call(page_num)\n",
    "    assert df_page_n.empty == False\n",
    "\n",
    "    df = pd.concat([df, df_page_n])\n"
   ]
  },
  {
   "cell_type": "code",
   "execution_count": null,
   "metadata": {},
   "outputs": [],
   "source": [
    "df.head(3)"
   ]
  },
  {
   "cell_type": "code",
   "execution_count": null,
   "metadata": {},
   "outputs": [],
   "source": [
    "raw_result"
   ]
  },
  {
   "cell_type": "markdown",
   "metadata": {},
   "source": [
    "<h2> EDA </h2> "
   ]
  },
  {
   "cell_type": "code",
   "execution_count": null,
   "metadata": {},
   "outputs": [],
   "source": [
    "print(f\"Número de linhas no df: {df.shape[0]}\")"
   ]
  },
  {
   "cell_type": "code",
   "execution_count": null,
   "metadata": {},
   "outputs": [],
   "source": [
    "df.iloc[0]"
   ]
  },
  {
   "cell_type": "markdown",
   "metadata": {},
   "source": [
    "<h3> COLUMNS OF INTEREST </h3>"
   ]
  },
  {
   "cell_type": "code",
   "execution_count": null,
   "metadata": {},
   "outputs": [],
   "source": [
    "import re\n",
    "[re.search('Specification.+', x).group(0) for x in df.columns if re.search('Specification', x)]"
   ]
  },
  {
   "cell_type": "code",
   "execution_count": null,
   "metadata": {},
   "outputs": [],
   "source": [
    "cols = [\n",
    "        'UniqueId', \n",
    "        'ProductCode', \n",
    "        'LongComment',\n",
    "        'FipePercent',\n",
    "        'GoodDeal',\n",
    "        'HotDeal',\n",
    "        'Specification.Title',\n",
    "        'Specification.Make.id',\n",
    "        'Specification.Make.Value',\n",
    "        'Specification.Model.id',\n",
    "        'Specification.Model.Value',\n",
    "        'Specification.Version.id',\n",
    "        'Specification.Version.Value',\n",
    "        'Specification.YearFabrication',\n",
    "        'Specification.YearModel',\n",
    "        'Specification.Odometer',\n",
    "        'Specification.Transmission',\n",
    "        'Specification.NumberPorts',\n",
    "        'Specification.BodyType',\n",
    "        'Specification.VehicleAttributes',\n",
    "        'Specification.Armored',\n",
    "        'Specification.Color.IdPrimary',\n",
    "        'Specification.Color.Primary',\n",
    "        'Seller.SellerType',                                               \n",
    "        'Seller.City',\n",
    "        'Seller.State',\n",
    "        'Prices.Price',\n",
    "        'Prices.SearchPrice'                        \n",
    "]\n",
    "\n",
    "df = df[cols]\n",
    "\n",
    "# rename of cols\n",
    "df.columns = [string.replace('.', '_').replace('Specification_', '') for string in cols]"
   ]
  },
  {
   "cell_type": "code",
   "execution_count": null,
   "metadata": {},
   "outputs": [],
   "source": []
  },
  {
   "cell_type": "code",
   "execution_count": null,
   "metadata": {},
   "outputs": [],
   "source": [
    "df.head(3)"
   ]
  },
  {
   "cell_type": "code",
   "execution_count": null,
   "metadata": {},
   "outputs": [],
   "source": [
    "df.dtypes"
   ]
  },
  {
   "cell_type": "code",
   "execution_count": null,
   "metadata": {},
   "outputs": [],
   "source": [
    "## NA Values\n",
    "df.isna().sum()[df.isna().sum()>0]"
   ]
  },
  {
   "cell_type": "code",
   "execution_count": null,
   "metadata": {},
   "outputs": [],
   "source": [
    "df = df.fillna({'Version_Value' : '0.0'})"
   ]
  },
  {
   "cell_type": "code",
   "execution_count": null,
   "metadata": {},
   "outputs": [],
   "source": [
    "df.Version_Value"
   ]
  },
  {
   "cell_type": "code",
   "execution_count": null,
   "metadata": {},
   "outputs": [],
   "source": []
  },
  {
   "cell_type": "code",
   "execution_count": null,
   "metadata": {},
   "outputs": [],
   "source": [
    "## Feature Engineering\n",
    "\n",
    "# Motor\" 1.0, 1.6, 2.0 etc. \n",
    "p = re.compile('[0-9]\\.[0-9]')\n",
    "motor_cil = df.Version_Value.apply(lambda x: p.search(x).group(0) if p.search(x) else 0)\n",
    "df['motor'] = motor_cil\n",
    "\n",
    "\n",
    "# Combustível; \n",
    "p = re.compile('flex|diesel|gasolina|alcool|álcool')\n",
    "df.Version_Value\n",
    "\n"
   ]
  },
  {
   "cell_type": "markdown",
   "metadata": {},
   "source": [
    "<h3> Case Studies: cars statics under xx.xxx price </h3>"
   ]
  },
  {
   "cell_type": "code",
   "execution_count": null,
   "metadata": {},
   "outputs": [],
   "source": [
    "df_100k = df[df['Prices_Price'] <= 85000]\n",
    "\n",
    "df_100k.describe().applymap(lambda x: round(x, 2))"
   ]
  },
  {
   "cell_type": "code",
   "execution_count": null,
   "metadata": {},
   "outputs": [],
   "source": [
    "df_100k.head(3)"
   ]
  },
  {
   "cell_type": "markdown",
   "metadata": {},
   "source": [
    "#### Quais fabricantes possuem, em média, carros mais novos, até a faixa dos 100k? \n"
   ]
  },
  {
   "cell_type": "code",
   "execution_count": null,
   "metadata": {},
   "outputs": [],
   "source": [
    "\n",
    "df_100k.groupby(['Make_Value'])[['Model_Value', 'YearModel', 'Odometer', 'Prices_Price']] \\\n",
    "    .agg(\n",
    "        {'Model_Value': 'count',\n",
    "        'YearModel': ['mean', 'min', 'max'],\n",
    "        'Odometer': ['mean', 'min', 'max'],\n",
    "        'Prices_Price': ['mean', 'min', 'max']\n",
    "        }\n",
    "        ).sort_values([('YearModel', 'mean'), ('Odometer', 'mean')], ascending=[False, False])"
   ]
  },
  {
   "cell_type": "markdown",
   "metadata": {},
   "source": [
    "#### Lista dos modelos mais encontrados, por fabricante"
   ]
  },
  {
   "cell_type": "code",
   "execution_count": null,
   "metadata": {},
   "outputs": [],
   "source": [
    "df_100k.groupby(['Make_Value', 'Model_Value'])[['Model_Value', 'YearModel', 'Odometer', 'Prices_Price']] \\\n",
    "    .agg(\n",
    "        {'Model_Value': 'count',\n",
    "        'YearModel': ['mean', 'min', 'max'],\n",
    "        'Odometer': ['mean', 'min', 'max'],\n",
    "        'Prices_Price': ['mean', 'min', 'max']\n",
    "        }\n",
    "        ).sort_values(['Make_Value', ('Model_Value', 'count')], ascending=[True, False])"
   ]
  },
  {
   "cell_type": "code",
   "execution_count": null,
   "metadata": {},
   "outputs": [],
   "source": [
    "df_100k.groupby(['Make_Value', 'Model_Value'])[['Model_Value', 'YearModel', 'Odometer', 'Prices_Price']] \\\n",
    "    .agg({\n",
    "        'Model_Value': [('model_count', 'count')],\n",
    "        'YearModel': ['mean', 'min', 'max'],\n",
    "        'Odometer': ['mean', 'min', 'max'],\n",
    "        'Prices_Price': ['mean', 'min', 'max']}).sort_values(['Make_Value', ('Model_Value', 'model_count')], ascending=[True, False]).applymap(lambda x: round(x, 2) if isinstance(x, float)  else x)"
   ]
  },
  {
   "cell_type": "code",
   "execution_count": null,
   "metadata": {},
   "outputs": [],
   "source": [
    "df.Seller_State[0].values"
   ]
  },
  {
   "cell_type": "markdown",
   "metadata": {},
   "source": [
    "### My Search "
   ]
  },
  {
   "cell_type": "code",
   "execution_count": null,
   "metadata": {},
   "outputs": [],
   "source": [
    "#### carros até 80k e no estado de SP\n",
    "df_70k = df[(df.Prices_Price <= 80000)\n",
    "            & (df.YearModel >= 2018)\n",
    "            & (df.Seller_State == 'São Paulo (SP)')\n",
    "            & (df.Odometer <=70000)\n",
    "            ]\n",
    "\n",
    "\n",
    "\n",
    "df_70k.groupby(['Make_Value', 'Model_Value'])[['Model_Value', 'YearModel', 'Odometer', 'Prices_Price']] \\\n",
    "    .agg(\n",
    "        {'Model_Value': 'count',\n",
    "        'YearModel': ['mean', 'max', 'min'],\n",
    "        'Odometer': ['mean', 'min', 'max'],\n",
    "        'Prices_Price': ['mean', 'min', 'max']\n",
    "        }\n",
    "        ).sort_values(['Make_Value', ('YearModel', 'mean'), ('Prices_Price', 'mean')], ascending=[True, False, False])"
   ]
  },
  {
   "cell_type": "code",
   "execution_count": null,
   "metadata": {},
   "outputs": [],
   "source": [
    "df.head(3)"
   ]
  },
  {
   "cell_type": "code",
   "execution_count": null,
   "metadata": {},
   "outputs": [],
   "source": []
  },
  {
   "cell_type": "code",
   "execution_count": null,
   "metadata": {},
   "outputs": [],
   "source": []
  },
  {
   "cell_type": "code",
   "execution_count": null,
   "metadata": {},
   "outputs": [],
   "source": [
    "import seaborn as sns\n",
    "from matplotlib import pyplot as plt\n",
    "\n",
    "df_70k_model_count = df_70k[['Model_Value', 'YearModel']].groupby('Model_Value').agg( count = ('YearModel', 'count')).sort_values('count')\n",
    "\n",
    "\n",
    "plt.figure(figsize=(12,10))\n",
    "sns.barplot(df_70k_model_count, x = 'count', y = df_70k_model_count.index, width = 0.7)\n",
    "\n",
    "plt.xticks(rotation=0)\n",
    "plt.title(\"Carros até R$ 80k <70.000 km & >=2018\")\n",
    "plt.ylabel('Car Model')\n",
    "plt.xlabel('Units Listed')\n",
    "\n",
    "#plt.subplots_adjust(bottom=0.2) \n",
    "plt.show()"
   ]
  },
  {
   "cell_type": "code",
   "execution_count": null,
   "metadata": {},
   "outputs": [],
   "source": [
    "df_70k"
   ]
  },
  {
   "cell_type": "code",
   "execution_count": null,
   "metadata": {},
   "outputs": [],
   "source": []
  },
  {
   "cell_type": "code",
   "execution_count": null,
   "metadata": {},
   "outputs": [],
   "source": []
  },
  {
   "cell_type": "code",
   "execution_count": null,
   "metadata": {},
   "outputs": [],
   "source": []
  },
  {
   "cell_type": "code",
   "execution_count": null,
   "metadata": {},
   "outputs": [],
   "source": []
  }
 ],
 "metadata": {
  "kernelspec": {
   "display_name": "webmotors",
   "language": "python",
   "name": "python3"
  },
  "language_info": {
   "codemirror_mode": {
    "name": "ipython",
    "version": 3
   },
   "file_extension": ".py",
   "mimetype": "text/x-python",
   "name": "python",
   "nbconvert_exporter": "python",
   "pygments_lexer": "ipython3",
   "version": "3.11.0"
  }
 },
 "nbformat": 4,
 "nbformat_minor": 2
}
